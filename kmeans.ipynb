{
 "metadata": {
  "language_info": {
   "codemirror_mode": {
    "name": "ipython",
    "version": 3
   },
   "file_extension": ".py",
   "mimetype": "text/x-python",
   "name": "python",
   "nbconvert_exporter": "python",
   "pygments_lexer": "ipython3",
   "version": "3.7.8-final"
  },
  "orig_nbformat": 2,
  "kernelspec": {
   "name": "Python 3.7.8 64-bit ('base': conda)",
   "display_name": "Python 3.7.8 64-bit ('base': conda)",
   "metadata": {
    "interpreter": {
     "hash": "1f9f2f50a2b28fa060fdddcb5a436d7ea76e913cddb9e91a54e91d5e4221a97a"
    }
   }
  }
 },
 "nbformat": 4,
 "nbformat_minor": 2,
 "cells": [
  {
   "cell_type": "code",
   "execution_count": 1,
   "metadata": {},
   "outputs": [],
   "source": [
    "import torch"
   ]
  },
  {
   "cell_type": "code",
   "execution_count": 2,
   "metadata": {},
   "outputs": [],
   "source": [
    "def get_data(path):\n",
    "    with open(path, 'r') as f:\n",
    "        data = f.readlines()[3:]\n",
    "        data = [float(data[i].strip()) for i in range(len(data))]\n",
    "    return data"
   ]
  },
  {
   "cell_type": "code",
   "execution_count": 4,
   "metadata": {},
   "outputs": [],
   "source": [
    "testdata = []\n",
    "\n",
    "for i in range(10):\n",
    "    testdata.append(get_data(r'D:\\\\My Files\\\\核技术专题研讨\\\\Anode\\\\Anode\\\\c3--0000' + str(i) + '.csv'))\n",
    "for i in range(90):\n",
    "    testdata.append(get_data(r'D:\\\\My Files\\\\核技术专题研讨\\\\Anode\\\\Anode\\\\c3--000' + str(i+10) + '.csv'))\n",
    "for i in range(900):\n",
    "    testdata.append(get_data(r'D:\\\\My Files\\\\核技术专题研讨\\\\Anode\\\\Anode\\\\c3--00' + str(i+100) + '.csv'))\n",
    "for i in range(9000):\n",
    "    testdata.append(get_data(r'D:\\\\My Files\\\\核技术专题研讨\\\\Anode\\\\Anode\\\\c3--0' + str(i+1000) + '.csv'))\n",
    "for i in range(9243):\n",
    "    testdata.append(get_data(r'D:\\\\My Files\\\\核技术专题研讨\\\\Anode\\\\Anode\\\\c3--' + str(i+10000) + '.csv'))\n",
    "\n",
    "testdata = torch.tensor(testdata)"
   ]
  },
  {
   "cell_type": "code",
   "execution_count": 4,
   "metadata": {},
   "outputs": [],
   "source": [
    "def normalize(signal):\n",
    "    peak = min(signal)\n",
    "    norm = signal\n",
    "    for i in range(len(signal)):\n",
    "        norm[i] = signal[i]/peak\n",
    "    return norm\n",
    "\n",
    "def writedata(signal, filename):\n",
    "    with open('norm/' + filename, 'a') as f:\n",
    "        for i in range(len(signal)):\n",
    "            print(signal[i], file = f)"
   ]
  },
  {
   "cell_type": "code",
   "execution_count": 5,
   "metadata": {},
   "outputs": [
    {
     "output_type": "stream",
     "name": "stdout",
     "text": [
      "41.51531219482422\n"
     ]
    }
   ],
   "source": [
    "import time\n",
    "tstart = time.time()\n",
    "testdata = []\n",
    "testdata_norm = []\n",
    "\n",
    "for i in range(10):\n",
    "    testdata.append(get_data(r'D:\\\\My Files\\\\核技术专题研讨\\\\Anode\\\\Anode\\\\c3--0000' + str(i) + '.csv'))\n",
    "for i in range(90):\n",
    "    testdata.append(get_data(r'D:\\\\My Files\\\\核技术专题研讨\\\\Anode\\\\Anode\\\\c3--000' + str(i+10) + '.csv'))\n",
    "for i in range(900):\n",
    "    testdata.append(get_data(r'D:\\\\My Files\\\\核技术专题研讨\\\\Anode\\\\Anode\\\\c3--00' + str(i+100) + '.csv'))\n",
    "for i in range(9000):\n",
    "    testdata.append(get_data(r'D:\\\\My Files\\\\核技术专题研讨\\\\Anode\\\\Anode\\\\c3--0' + str(i+1000) + '.csv'))\n",
    "for i in range(9243):\n",
    "    testdata.append(get_data(r'D:\\\\My Files\\\\核技术专题研讨\\\\Anode\\\\Anode\\\\c3--' + str(i+10000) + '.csv'))\n",
    "\n",
    "for i in range(len(testdata)):\n",
    "    testdata_norm.append(normalize(testdata[i]))\n",
    "    writedata(testdata_norm[i], str(i) + '.txt')\n",
    "\n",
    "testdata = torch.tensor(testdata)\n",
    "tend = time.time()\n",
    "print(tend - tstart)"
   ]
  },
  {
   "cell_type": "code",
   "execution_count": 6,
   "metadata": {},
   "outputs": [],
   "source": [
    "testdata_norm = torch.tensor(testdata_norm)"
   ]
  },
  {
   "source": [
    "K-means model"
   ],
   "cell_type": "markdown",
   "metadata": {}
  },
  {
   "cell_type": "code",
   "execution_count": 9,
   "metadata": {},
   "outputs": [],
   "source": [
    "class KMEANS:\n",
    "    def __init__(self, n_clusters = 2, max_iter = None, verbose = True, device = torch.device(\"cpu\")):\n",
    "\n",
    "        self.n_cluster = n_clusters\n",
    "        self.n_clusters = n_clusters\n",
    "        self.labels = None\n",
    "        self.dists = None  # shape: [x.shape[0],n_cluster]\n",
    "        self.centers = None\n",
    "        self.variation = torch.Tensor([float(\"Inf\")]).to(device)\n",
    "        self.verbose = verbose\n",
    "        self.started = False\n",
    "        self.representative_samples = None\n",
    "        self.max_iter = max_iter\n",
    "        self.count = 0\n",
    "        self.device = device\n",
    "\n",
    "    def fit(self, x):\n",
    "        init_row = torch.randint(0, x.shape[0], (self.n_clusters,)).to(self.device)\n",
    "        init_points = x[init_row]\n",
    "        self.centers = init_points\n",
    "        while True:\n",
    "            self.nearest_center(x)\n",
    "            self.update_center(x)\n",
    "            if self.verbose:\n",
    "                print(self.variation, torch.argmin(self.dists, (0)))\n",
    "            if torch.abs(self.variation) < 1e-6 and self.max_iter is None:\n",
    "                break\n",
    "            elif self.max_iter is not None and self.count == self.max_iter:\n",
    "                break\n",
    "\n",
    "            self.count += 1\n",
    "\n",
    "        self.representative_sample()\n",
    "\n",
    "        with open('kmeans.txt', 'a') as f:\n",
    "            for i in range(x.shape[0]):\n",
    "                print(self.dists[i][0].item(), self.dists[i][1].item(), file = f)\n",
    "\n",
    "    def nearest_center(self, x):\n",
    "        labels = torch.empty((x.shape[0],)).long().to(self.device)\n",
    "        dists = torch.empty((0, self.n_clusters)).to(self.device)\n",
    "        for i, sample in enumerate(x):\n",
    "            dist = torch.sum(torch.mul(sample - self.centers, sample - self.centers), (1))\n",
    "            labels[i] = torch.argmin(dist)\n",
    "            dists = torch.cat([dists, dist.unsqueeze(0)], (0))\n",
    "        self.labels = labels\n",
    "        if self.started:\n",
    "            self.variation = torch.sum(self.dists - dists)\n",
    "        self.dists = dists\n",
    "        self.started = True\n",
    "\n",
    "    def update_center(self, x):\n",
    "        centers = torch.empty((0, x.shape[1])).to(self.device)\n",
    "        for i in range(self.n_clusters):\n",
    "            mask = self.labels == i\n",
    "            cluster_samples = x[mask]\n",
    "            centers = torch.cat([centers, torch.mean(cluster_samples, (0)).unsqueeze(0)], (0))\n",
    "        self.centers = centers\n",
    "\n",
    "    def representative_sample(self):\n",
    "        self.representative_samples = torch.argmin(self.dists, (0))"
   ]
  },
  {
   "cell_type": "code",
   "execution_count": 11,
   "metadata": {},
   "outputs": [
    {
     "output_type": "stream",
     "name": "stdout",
     "text": [
      "tensor([inf]) tensor([10561,   987])\n",
      "tensor(-4727.5620) tensor([16569, 17123])\n",
      "tensor(3383.4102) tensor([11479,  1791])\n",
      "tensor(1715.5330) tensor([2849, 1791])\n",
      "tensor(823.8400) tensor([2849, 8119])\n",
      "tensor(432.7294) tensor([2849, 8119])\n",
      "tensor(190.7943) tensor([2849, 8119])\n",
      "tensor(137.4166) tensor([2849, 8119])\n",
      "tensor(77.2113) tensor([2849, 8119])\n",
      "tensor(50.9358) tensor([2849, 8119])\n",
      "tensor(27.0934) tensor([2849, 8119])\n",
      "tensor(9.0110) tensor([2849, 8119])\n",
      "tensor(5.4012) tensor([2849, 8119])\n",
      "tensor(5.3956) tensor([2849, 8119])\n",
      "tensor(1.7976) tensor([2849, 8119])\n",
      "tensor(5.3868) tensor([2849, 8119])\n",
      "tensor(10.7429) tensor([2849, 8119])\n",
      "tensor(7.1441) tensor([2849, 8119])\n",
      "tensor(1.7857) tensor([2849, 8119])\n",
      "tensor(1.7848) tensor([2849, 8119])\n",
      "tensor(0.) tensor([2849, 8119])\n"
     ]
    }
   ],
   "source": [
    "kmeans = KMEANS()\n",
    "kmeans.fit(testdata)"
   ]
  },
  {
   "cell_type": "code",
   "execution_count": 36,
   "metadata": {},
   "outputs": [],
   "source": [
    "def PCA_svd(X, k, center=True):\n",
    "  n = X.size()[0]\n",
    "  ones = torch.ones(n).view([n,1])\n",
    "  h = ((1/n) * torch.mm(ones, ones.t())) if center else torch.zeros(n*n).view([n,n])\n",
    "  H = torch.eye(n) - h\n",
    "  #H = H.cuda()\n",
    "  X_center =  torch.mm(H.double(), X.double())\n",
    "  u, s, v = torch.svd(X_center)\n",
    "  components  = v[:k].t()\n",
    "  #explained_variance = torch.mul(s[:k], s[:k])/(n-1)\n",
    "  return components"
   ]
  },
  {
   "cell_type": "code",
   "execution_count": null,
   "metadata": {},
   "outputs": [],
   "source": []
  }
 ]
}